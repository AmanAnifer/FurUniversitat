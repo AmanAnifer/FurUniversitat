{
 "cells": [
  {
   "cell_type": "markdown",
   "id": "f841db69-930c-4a64-999b-330c1e4faca0",
   "metadata": {},
   "source": [
    "## 1) Remove character of odd index from a string"
   ]
  },
  {
   "cell_type": "code",
   "execution_count": 1,
   "id": "1fb852e6-d4e4-4c0d-9d34-f61b2939d9b7",
   "metadata": {},
   "outputs": [
    {
     "name": "stdin",
     "output_type": "stream",
     "text": [
      "Enter the string:  dromedary\n"
     ]
    },
    {
     "name": "stdout",
     "output_type": "stream",
     "text": [
      "String with odd index values removed: doeay\n"
     ]
    }
   ],
   "source": [
    "s = input(\"Enter the string: \")\n",
    "print(f\"String with odd index values removed: {s[::2]}\")"
   ]
  },
  {
   "cell_type": "markdown",
   "id": "b0e32756-db20-452e-8def-669e79d71da3",
   "metadata": {},
   "source": [
    "## 2) Count lower case characters in a string"
   ]
  },
  {
   "cell_type": "code",
   "execution_count": 3,
   "id": "5a1fe3b4-999e-4f32-9041-fa83f183975d",
   "metadata": {},
   "outputs": [
    {
     "name": "stdin",
     "output_type": "stream",
     "text": [
      "Enter the string:  MAP is A FUNCTION which does SOMETHING\n"
     ]
    },
    {
     "name": "stdout",
     "output_type": "stream",
     "text": [
      "Lowercase characters: 11\n"
     ]
    }
   ],
   "source": [
    "s = input(\"Enter the string: \")\n",
    "count = 0\n",
    "for i in s:\n",
    "    if i.islower():\n",
    "        count += 1\n",
    "print(f\"Lowercase characters: {count}\")"
   ]
  },
  {
   "cell_type": "markdown",
   "id": "50689c27-6ae1-490c-9286-45fc1ecfc643",
   "metadata": {},
   "source": [
    "## 3) Check if substring is present in string"
   ]
  },
  {
   "cell_type": "code",
   "execution_count": 5,
   "id": "d609d525-d585-4fe5-b774-fbecdc993929",
   "metadata": {},
   "outputs": [
    {
     "name": "stdin",
     "output_type": "stream",
     "text": [
      "Enter original string:  randomness prevails\n",
      "Enter string to check:  ai\n"
     ]
    },
    {
     "name": "stdout",
     "output_type": "stream",
     "text": [
      "ai is a substring\n"
     ]
    }
   ],
   "source": [
    "s = input(\"Enter original string: \")\n",
    "sub = input(\"Enter string to check: \")\n",
    "if sub in s:\n",
    "    print(f\"{sub} is a substring\")\n",
    "else:\n",
    "    print(f\"{sub} is not a substring\")"
   ]
  },
  {
   "cell_type": "markdown",
   "id": "383fbf6f-84ea-4d45-9a87-28628bdf5ecb",
   "metadata": {},
   "source": [
    "## 4) Check for common letters in two input strings"
   ]
  },
  {
   "cell_type": "code",
   "execution_count": 7,
   "id": "5f37737f-ae7e-4fdc-ba25-6062bd1785a9",
   "metadata": {},
   "outputs": [
    {
     "name": "stdin",
     "output_type": "stream",
     "text": [
      "Enter string 1:  dictionary\n",
      "Enter string 2:  positive\n"
     ]
    },
    {
     "name": "stdout",
     "output_type": "stream",
     "text": [
      "Common letters are : {'o', 't', 'i'}\n"
     ]
    }
   ],
   "source": [
    "s1 = input(\"Enter string 1: \")\n",
    "s2 = input(\"Enter string 2: \")\n",
    "set1 = set(s1)\n",
    "set2 = set(s2)\n",
    "print(f\"Common letters are : {set1.intersection(set2)}\")"
   ]
  },
  {
   "cell_type": "markdown",
   "id": "b64deb99-eb48-41ba-b7ee-acd0b0bdecf1",
   "metadata": {},
   "source": [
    "## 5) Show the letters which are in the first string but not the second"
   ]
  },
  {
   "cell_type": "code",
   "execution_count": 8,
   "id": "df8342d3-f020-46c7-afd3-52f08ef24d21",
   "metadata": {},
   "outputs": [
    {
     "name": "stdin",
     "output_type": "stream",
     "text": [
      "Enter string 1:  intersection\n",
      "Enter string 2:  union\n"
     ]
    },
    {
     "name": "stdout",
     "output_type": "stream",
     "text": [
      "Letters which are in the first but not second: {'e', 's', 'r', 'c', 't'}\n"
     ]
    }
   ],
   "source": [
    "s1 = input(\"Enter string 1: \")\n",
    "s2 = input(\"Enter string 2: \")\n",
    "set1 = set(s1)\n",
    "set2 = set(s2)\n",
    "print(f\"Letters which are in the first but not second: {set1.difference(set2)}\")"
   ]
  },
  {
   "cell_type": "markdown",
   "id": "3a110bde-d4fd-42cd-ad1f-cc4f72c005c8",
   "metadata": {},
   "source": [
    "## 6) Check if key is in dictionary or not"
   ]
  },
  {
   "cell_type": "code",
   "execution_count": 10,
   "id": "b4190466-856a-4c7e-a9af-538960d7aaf8",
   "metadata": {},
   "outputs": [
    {
     "name": "stdin",
     "output_type": "stream",
     "text": [
      "Enter key to check:  2\n"
     ]
    },
    {
     "name": "stdout",
     "output_type": "stream",
     "text": [
      "2 is a key\n"
     ]
    }
   ],
   "source": [
    "d = {1: \"one\", 2: \"two\", 3: \"three\"}\n",
    "check = int(input(\"Enter key to check: \"))\n",
    "if check in d:\n",
    "    print(f\"{check} is a key\")\n",
    "else:\n",
    "    print(f\"{check} is not a key\")"
   ]
  },
  {
   "cell_type": "markdown",
   "id": "8de0df54-499e-42b7-9fd5-59a6e36596bf",
   "metadata": {},
   "source": [
    "## 7) Add key value pair to the dictionary"
   ]
  },
  {
   "cell_type": "code",
   "execution_count": 31,
   "id": "159ff43e-fc80-446d-a427-4ad9cc91150b",
   "metadata": {},
   "outputs": [
    {
     "name": "stdin",
     "output_type": "stream",
     "text": [
      "Enter the key to insert:  5\n",
      "Enter value to enter:  five\n"
     ]
    },
    {
     "name": "stdout",
     "output_type": "stream",
     "text": [
      "{1: 'one', 2: 'two', 3: 'three', 5: 'five'}\n"
     ]
    }
   ],
   "source": [
    "d = {1: \"one\", 2: \"two\", 3: \"three\"}\n",
    "key = int(input(\"Enter the key to insert: \"))\n",
    "val = input(\"Enter value to enter: \")\n",
    "d[key] = val\n",
    "print(d)"
   ]
  },
  {
   "cell_type": "markdown",
   "id": "b2d88728-de0d-471c-8110-2cd1c5ed3db9",
   "metadata": {},
   "source": [
    "## 8) Find sum of all the items in a dictionary"
   ]
  },
  {
   "cell_type": "code",
   "execution_count": 12,
   "id": "8cc14970-aa61-4e1a-af84-892d7a4ddfd3",
   "metadata": {},
   "outputs": [
    {
     "name": "stdout",
     "output_type": "stream",
     "text": [
      "[11, 22, 33, 44]\n"
     ]
    }
   ],
   "source": [
    "d = {1:10, 2:20, 3:30, 4:40}\n",
    "sums = []\n",
    "for k, v in d.items():\n",
    "    sums.append(k+v)\n",
    "print(sums)\n"
   ]
  },
  {
   "cell_type": "markdown",
   "id": "607bf9be-4cca-43fc-a0f5-c50c123826e4",
   "metadata": {},
   "source": [
    "## 9) Find multiplication of items in a dictionary"
   ]
  },
  {
   "cell_type": "code",
   "execution_count": 13,
   "id": "bb4c19c6-ad92-4456-b2b2-edd7d6139e55",
   "metadata": {},
   "outputs": [
    {
     "name": "stdout",
     "output_type": "stream",
     "text": [
      "[1, 8, 27, 64, 125]\n"
     ]
    }
   ],
   "source": [
    "d = {1:1, 2:4, 3:9, 4:16, 5:25}\n",
    "muls = []\n",
    "for k, v in d.items():\n",
    "    muls.append(k*v)\n",
    "print(muls)\n"
   ]
  },
  {
   "cell_type": "markdown",
   "id": "d099cb99-9d5d-46ec-9c91-f330a2f2e5c1",
   "metadata": {},
   "source": [
    "## 10) Remove a key from a dictionary"
   ]
  },
  {
   "cell_type": "code",
   "execution_count": 17,
   "id": "a6ac2a77-46fd-4152-95d1-51516ecf1e37",
   "metadata": {},
   "outputs": [
    {
     "name": "stdout",
     "output_type": "stream",
     "text": [
      "{1: 1, 2: 4, 3: 9, 4: 16, 5: 25}\n"
     ]
    },
    {
     "name": "stdin",
     "output_type": "stream",
     "text": [
      "Remove which key:  2\n"
     ]
    },
    {
     "name": "stdout",
     "output_type": "stream",
     "text": [
      "{1: 1, 3: 9, 4: 16, 5: 25}\n"
     ]
    }
   ],
   "source": [
    "d = {1:1, 2:4, 3:9, 4:16, 5:25}\n",
    "print(d)\n",
    "key = int(input(\"Remove which key: \"))\n",
    "d.pop(key, None)\n",
    "print(d)"
   ]
  },
  {
   "cell_type": "markdown",
   "id": "59793c0b-3422-469d-afa0-edbf4bf51115",
   "metadata": {},
   "source": [
    "## 11) Concatenate two dictionaries"
   ]
  },
  {
   "cell_type": "code",
   "execution_count": 18,
   "id": "31ca564b-a4ea-4f2e-a9a0-2540a3ad3b27",
   "metadata": {},
   "outputs": [
    {
     "name": "stdout",
     "output_type": "stream",
     "text": [
      "{1: 1, 2: 4, 3: 9, 4: 16, 5: 25}\n",
      "{6: 36, 7: 49, 8: 64}\n",
      "{1: 1, 2: 4, 3: 9, 4: 16, 5: 25, 6: 36, 7: 49, 8: 64}\n"
     ]
    }
   ],
   "source": [
    "d1 = {1:1, 2:4, 3:9, 4:16, 5:25}\n",
    "d2 = {6:36, 7:49, 8:64}\n",
    "print(d1)\n",
    "print(d2)\n",
    "d1.update(d2)\n",
    "print(d1)"
   ]
  },
  {
   "cell_type": "markdown",
   "id": "171ad47f-d206-40f5-a46a-a0c07e4f67b8",
   "metadata": {},
   "source": [
    "## 12) Map two lists into a dictionary"
   ]
  },
  {
   "cell_type": "code",
   "execution_count": 20,
   "id": "c0bcc34f-042c-4cdd-ac48-08b07ed25657",
   "metadata": {},
   "outputs": [
    {
     "name": "stdin",
     "output_type": "stream",
     "text": [
      "Enter keys:  1 2 3 4\n",
      "Enter values:  one two three four\n"
     ]
    },
    {
     "name": "stdout",
     "output_type": "stream",
     "text": [
      "{'1': 'one', '2': 'two', '3': 'three', '4': 'four'}\n"
     ]
    }
   ],
   "source": [
    "key = input(\"Enter keys: \").split(\" \")\n",
    "vals = input(\"Enter values: \").split(\" \")\n",
    "d = dict(zip(key, vals))\n",
    "print(d)"
   ]
  },
  {
   "cell_type": "markdown",
   "id": "e6622749-6904-495c-a56b-df34cb03ae1f",
   "metadata": {},
   "source": [
    "## 13) Create dictionary with key as first character and value as words starting with that character"
   ]
  },
  {
   "cell_type": "code",
   "execution_count": 30,
   "id": "6cf89f19-8636-4575-9735-c5ccc45eb0c9",
   "metadata": {},
   "outputs": [
    {
     "name": "stdin",
     "output_type": "stream",
     "text": [
      "Enter words:  hello there electric equipements when what how that\n"
     ]
    },
    {
     "name": "stdout",
     "output_type": "stream",
     "text": [
      "{'h': ['hello', 'how'], 't': ['there', 'that'], 'e': ['electric', 'equipements'], 'w': ['when', 'what']}\n"
     ]
    }
   ],
   "source": [
    "words = input(\"Enter words: \").split(\" \")\n",
    "dw = {}\n",
    "for word in words:\n",
    "    if word[0] in dw:\n",
    "        dw[word[0]].append(word)\n",
    "    else:\n",
    "        dw[word[0]] = [word]\n",
    "print(dw)"
   ]
  },
  {
   "cell_type": "markdown",
   "id": "f51a3de6-13ef-4f5b-93c6-91552a0c424b",
   "metadata": {},
   "source": [
    "## 14) Create dictionary with key as n and value as n^2, using dictionary comprehension, from 1 to n"
   ]
  },
  {
   "cell_type": "code",
   "execution_count": 21,
   "id": "f89f76dc-aa1e-411f-983e-8ce4916a3936",
   "metadata": {},
   "outputs": [
    {
     "name": "stdin",
     "output_type": "stream",
     "text": [
      "Enter n:  6\n"
     ]
    },
    {
     "name": "stdout",
     "output_type": "stream",
     "text": [
      "{1: 1, 2: 4, 3: 9, 4: 16, 5: 25, 6: 36}\n"
     ]
    }
   ],
   "source": [
    "n = int(input(\"Enter n: \"))\n",
    "d = {i:i**2 for i in range(1, n+1)}\n",
    "print(d)"
   ]
  },
  {
   "cell_type": "markdown",
   "id": "dd7bbf39-cb1a-4ba0-ab96-e749bfc94217",
   "metadata": {},
   "source": [
    "## 15) Create a list of tuples with (x, x^2) as each value"
   ]
  },
  {
   "cell_type": "code",
   "execution_count": 23,
   "id": "34a9eb9f-1945-497d-b58b-c0c6d2e7a228",
   "metadata": {},
   "outputs": [
    {
     "name": "stdin",
     "output_type": "stream",
     "text": [
      "Enter x:  10\n"
     ]
    },
    {
     "name": "stdout",
     "output_type": "stream",
     "text": [
      "[(1, 1), (2, 4), (3, 9), (4, 16), (5, 25), (6, 36), (7, 49), (8, 64), (9, 81), (10, 100)]\n"
     ]
    }
   ],
   "source": [
    "n = int(input(\"Enter x: \"))\n",
    "l = [(i,i**2) for i in range(1, n+1)]\n",
    "print(l)"
   ]
  },
  {
   "cell_type": "markdown",
   "id": "76a5e424-d6c1-4a53-8372-bad60640a72c",
   "metadata": {},
   "source": [
    "## 16) Sort a list of tuples in increasing order by the last element in each tuple"
   ]
  },
  {
   "cell_type": "code",
   "execution_count": 24,
   "id": "f369002a-90c7-4d27-a4ff-e64b657231c1",
   "metadata": {},
   "outputs": [
    {
     "name": "stdout",
     "output_type": "stream",
     "text": [
      "[(7, 2), (8, 2), (6, 3), (1, 5), (9, 7)]\n"
     ]
    }
   ],
   "source": [
    "a = [(1, 5), (7, 2), (8, 2), (6, 3), (9, 7)]\n",
    "for i in range(0, len(a)):\n",
    "    for j in range(0, len(a)-i-1):\n",
    "        if(a[j][-1] > a[j+1][-1]):\n",
    "            a[j], a[j+1] = a[j+1], a[j]\n",
    "print(a)"
   ]
  },
  {
   "cell_type": "markdown",
   "id": "54862c05-d111-4444-8802-395778aad59e",
   "metadata": {},
   "source": [
    "## 17) Print sum of negatives, postive, even and odd numbers separately from a list"
   ]
  },
  {
   "cell_type": "code",
   "execution_count": 27,
   "id": "beb8df9f-62b5-4608-bb37-82ec5cdd3f2d",
   "metadata": {},
   "outputs": [
    {
     "name": "stdin",
     "output_type": "stream",
     "text": [
      "Enter nums:  5 7 2 3 1 -5 -8 10 -6\n"
     ]
    },
    {
     "name": "stdout",
     "output_type": "stream",
     "text": [
      "{'neg': 0, 'pos': 0, 'even': 0, 'odd': 0}\n",
      "{'neg': -19, 'pos': 28, 'even': -2, 'odd': 11}\n"
     ]
    }
   ],
   "source": [
    "l = [int(i) for i in input(\"Enter nums: \").split(\" \" )]\n",
    "sum = dict.fromkeys([\"neg\", \"pos\", \"even\", \"odd\"], 0)\n",
    "print(sum)\n",
    "for i in l:\n",
    "    if i < 0:\n",
    "        sum[\"neg\"] += i\n",
    "    else:\n",
    "        sum[\"pos\"] += i\n",
    "\n",
    "    if i%2 == 0:\n",
    "        sum[\"even\"] += i\n",
    "    else:\n",
    "        sum[\"odd\"] += i\n",
    "print(sum)"
   ]
  },
  {
   "cell_type": "markdown",
   "id": "fbeaafa0-61ab-4992-a7af-0accb1e0cbff",
   "metadata": {},
   "source": [
    "## 18) Program to merge two lists and sort it"
   ]
  },
  {
   "cell_type": "code",
   "execution_count": 28,
   "id": "020cbe9b-750a-49af-b794-993b9ff84452",
   "metadata": {},
   "outputs": [
    {
     "name": "stdin",
     "output_type": "stream",
     "text": [
      "Enter first list:  5 2 7 8 1 -2\n",
      "Enter second list:  8 4 15 -5 2\n"
     ]
    },
    {
     "name": "stdout",
     "output_type": "stream",
     "text": [
      "[-5, -2, 1, 2, 2, 4, 5, 7, 8, 8, 15]\n"
     ]
    }
   ],
   "source": [
    "l1 = [int(i) for i in input(\"Enter first list: \").split(\" \")]\n",
    "l2 = [int(i) for i in input(\"Enter second list: \").split(\" \")]\n",
    "l3 = l1+l2\n",
    "for i in range(0, len(l3)):\n",
    "    for j in range(0, len(l3)-i-1):\n",
    "        if(l3[j] > l3[j+1]):\n",
    "            l3[j], l3[j+1] = l3[j+1], l3[j]\n",
    "print(l3)"
   ]
  },
  {
   "cell_type": "markdown",
   "id": "707e6103-881c-459d-bd35-01a4c356c144",
   "metadata": {},
   "source": [
    "## Assignment: Rock Paper Scissors"
   ]
  },
  {
   "cell_type": "code",
   "execution_count": 33,
   "id": "ae72e7ea-4188-4477-9b00-895555d6e0c8",
   "metadata": {},
   "outputs": [
    {
     "ename": "SyntaxError",
     "evalue": "incomplete input (1245981216.py, line 3)",
     "output_type": "error",
     "traceback": [
      "\u001b[0;36m  Cell \u001b[0;32mIn[33], line 3\u001b[0;36m\u001b[0m\n\u001b[0;31m    p_s = \"\"\"1) Rock\u001b[0m\n\u001b[0m          ^\u001b[0m\n\u001b[0;31mSyntaxError\u001b[0m\u001b[0;31m:\u001b[0m incomplete input\n"
     ]
    }
   ],
   "source": [
    "import random\n",
    "hands = {1: \"Rock\", 2: \"Paper\", 3: \"Scissor\"}\n",
    "print(\"\"\"1) Rock\n",
    "2) Paper\n",
    "3) Scissor\"\"\")\n",
    "while(True):\n",
    "    choice = \n",
    "    "
   ]
  },
  {
   "cell_type": "code",
   "execution_count": null,
   "id": "c87932a4-c9f4-463f-a55c-1026c2cd9131",
   "metadata": {},
   "outputs": [],
   "source": []
  }
 ],
 "metadata": {
  "kernelspec": {
   "display_name": "Python 3 (ipykernel)",
   "language": "python",
   "name": "python3"
  },
  "language_info": {
   "codemirror_mode": {
    "name": "ipython",
    "version": 3
   },
   "file_extension": ".py",
   "mimetype": "text/x-python",
   "name": "python",
   "nbconvert_exporter": "python",
   "pygments_lexer": "ipython3",
   "version": "3.10.12"
  }
 },
 "nbformat": 4,
 "nbformat_minor": 5
}
